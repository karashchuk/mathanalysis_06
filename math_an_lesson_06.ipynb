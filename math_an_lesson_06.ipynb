{
 "cells": [
  {
   "cell_type": "markdown",
   "metadata": {},
   "source": [
    "## Решение задания к уроку 6\n"
   ]
  },
  {
   "cell_type": "markdown",
   "metadata": {},
   "source": [
    "__1.__ Найти производную функции:\n",
    "\n",
    "$$y=\\frac{1}{x}+\\frac{2}{x^2}-\\frac{5}{x^3}+\\sqrt x -\\sqrt[3]x+\\frac{3}{\\sqrt x}$$"
   ]
  },
  {
   "cell_type": "markdown",
   "metadata": {},
   "source": [
    "Ответ:\n",
    "$$y'=(\\frac{1}{x})'+(\\frac{2}{x^2})'-(\\frac{5}{x^3})'+(\\sqrt x)' -(\\sqrt[3]x)'+(\\frac{3}{\\sqrt x})' = $$\n",
    "$$ = -\\frac{1}{x^2} - \\frac{4}{x^3}+\\frac{15}{x^4}+\\frac{1}{2\\sqrt x} - \\frac{1}{3 \\sqrt[3]{x^2}} - \\frac{3}{2\\sqrt {x^3}}$$"
   ]
  },
  {
   "cell_type": "markdown",
   "metadata": {},
   "source": [
    "__2.__ Найти производную функции:\n",
    "\n",
    "$$y=x \\cdot \\sqrt {1+x^2}$$"
   ]
  },
  {
   "cell_type": "markdown",
   "metadata": {},
   "source": [
    "Ответ:\n",
    "\n",
    "$$ y' = x' \\cdot \\sqrt {1+x^2} + x \\cdot(\\sqrt {1+x^2})' = \\sqrt {1+x^2} + x \\cdot \\frac{1}{2 \\cdot\\sqrt {1+x^2}}\\cdot 2 x = $$\n",
    "\n",
    "$$ = \\frac{1+x^2}{\\sqrt {1+x^2}} + \\frac{x^2}{\\sqrt{1+x^2}} = $$\n",
    "\n",
    "$$ =      \\frac{1 + 2 x^2}{\\sqrt{1 + x^2}} $$"
   ]
  },
  {
   "cell_type": "markdown",
   "metadata": {},
   "source": [
    "__3.__ Найти производную функции:\n",
    "\n",
    "$$y= \\frac{2x}{1-x^2}$$"
   ]
  },
  {
   "cell_type": "markdown",
   "metadata": {},
   "source": [
    "Ответ:\n",
    "    \n",
    "$$y'= \\frac{(2x)'\\cdot (1-x^2) - 2x \\cdot (1-x^2)'}{(1-x^2)^2} = \\frac{2 \\cdot (1-x^2) - 2x \\cdot (-2x)}{(1-x^2)^2} = $$\n",
    "\n",
    "$$ = \\frac{2 (1 + x^2)}{(1 - x^2)^2}$$ "
   ]
  },
  {
   "cell_type": "markdown",
   "metadata": {},
   "source": [
    "__4*.__ Найти производную функции:\n",
    "\n",
    "$$y=\\sqrt{x+ \\sqrt{x+\\sqrt x}}$$"
   ]
  },
  {
   "cell_type": "markdown",
   "metadata": {},
   "source": [
    "Ответ:\n",
    "$$y'= \\frac{(x+ \\sqrt{x+\\sqrt x})'}{2 \\sqrt{x+ \\sqrt{x+\\sqrt x}}}  = \\frac{1+ \\frac{(x+\\sqrt x)'}{2\\sqrt{x+\\sqrt x}}}{2 \\sqrt{x+ \\sqrt{x+\\sqrt x}}} = $$\n",
    "\n",
    "$$ = \\frac{1+ \\frac{1+ \\frac{1}{2\\sqrt x}}{2\\sqrt{x+\\sqrt x}}}{2 \\sqrt{x+ \\sqrt{x+\\sqrt x}}}$$\n"
   ]
  },
  {
   "cell_type": "markdown",
   "metadata": {},
   "source": [
    "__5.__ Найти производную функции:\n",
    "\n",
    "$$y= \\ln(x+\\sqrt{x^2+1})$$\n"
   ]
  },
  {
   "cell_type": "markdown",
   "metadata": {},
   "source": [
    "Ответ:\n",
    "\n",
    "$$ y' = \\frac{x' + (\\sqrt{x^2+1})' }{x+\\sqrt{x^2+1}} = \\frac{1 +  \\frac{2x}{2\\sqrt{x^2+1}}}{x+\\sqrt{x^2+1}}  = $$\n",
    "$$ = \\frac{x+\\sqrt{x^2+1}}{({x+\\sqrt{x^2+1}})\\cdot \\sqrt{x^2+1}}  = \\frac{1}{\\sqrt{x^2+1}} $$"
   ]
  },
  {
   "cell_type": "markdown",
   "metadata": {},
   "source": [
    "__6.__ Найти производную функции:\n",
    "\n",
    "$$y=x \\cdot \\ln(x+\\sqrt{x^2+1})-\\sqrt{x^2+1}$$"
   ]
  },
  {
   "cell_type": "markdown",
   "metadata": {},
   "source": [
    "Ответ:\n",
    "$$y=x' \\cdot \\ln(x+\\sqrt{x^2+1}) + x \\cdot (\\ln(x+\\sqrt{x^2+1}))'-(\\sqrt{x^2+1})' = $$\n",
    "\n",
    "$$ = \\ln(x+\\sqrt{x^2+1}) + x \\cdot \\frac{1}{\\sqrt{x^2+1}} - \\frac{2x}{2\\sqrt{x^2+1}} = $$\n",
    "\n",
    "$$ = \\ln(x+\\sqrt{x^2+1}) $$"
   ]
  },
  {
   "cell_type": "markdown",
   "metadata": {},
   "source": [
    "__7*.__ Найти производную функции:\n",
    "\n",
    "$$y=\\arcsin (\\sin x)$$"
   ]
  },
  {
   "cell_type": "markdown",
   "metadata": {},
   "source": [
    "Ответ:\n",
    "\n",
    "$$y' =(\\arcsin (\\sin x))' = \\frac{(\\sin x)'}{\\sqrt{1-sin^2(x)}} = \\frac{\\cos x}{\\sqrt{1-sin^2(x)}} = $$\n",
    "\n",
    "$$ = \\frac{\\cos x}{\\sqrt{cos^2(x)}}  = \\frac{\\cos x}{|\\cos x |}$$"
   ]
  },
  {
   "cell_type": "markdown",
   "metadata": {},
   "source": [
    "__8*.__ Вычислить приближенное значение: \n",
    "\n",
    "$$\\sin(1^0)=\\sin(\\frac{\\pi}{180})$$\n"
   ]
  },
  {
   "cell_type": "markdown",
   "metadata": {},
   "source": [
    "Для небольших $\\Delta x$ справедливо \n",
    "\n",
    "$$f(x+\\Delta x) \\approx f(x)+f'(x) \\cdot \\Delta x$$\n",
    "\n",
    "Тогда для $ \\sin{\\Delta x} $ будет:\n",
    "\n",
    "$$\\sin(0 +\\Delta x) = \\sin{\\Delta x} \\approx \\sin(0)+ \\cos(0) \\cdot \\Delta x = \\Delta x $$\n",
    "\n",
    "и учитывая что  $(1^0)=\\frac{\\pi}{180} $ - это маленькое $\\Delta x$, то получаем"
   ]
  },
  {
   "cell_type": "code",
   "execution_count": 1,
   "metadata": {},
   "outputs": [
    {
     "name": "stdout",
     "output_type": "stream",
     "text": [
      "sin(1^o) = sin(Pi/180) ~ 0.017453292519943295\n"
     ]
    }
   ],
   "source": [
    "from numpy import pi \n",
    "print(f'sin(1^o) = sin(Pi/180) ~ {pi/180}')"
   ]
  },
  {
   "cell_type": "markdown",
   "metadata": {},
   "source": [
    "__9**.__ Написать на python алгоритм, по вычислению значений $\\sin(x)$ для $х \\in[0, 5^0]$\n",
    "\n",
    "Для проверки подойдут данные из таблицы Брадиса\n",
    "\n",
    "$$\\sin(0)=0.0000$$\n",
    "\n",
    "$$\\sin(1^0)=0.0175$$\n",
    "\n",
    "$$\\sin(2^0)=0.0349$$\n",
    "\n",
    "$$\\sin(3^0)=0.0523$$\n",
    "\n",
    "$$\\sin(4^0)=0.0698$$\n",
    "\t\n",
    "$$\\sin(5^0)=0.0872$$\n"
   ]
  },
  {
   "cell_type": "code",
   "execution_count": 6,
   "metadata": {},
   "outputs": [
    {
     "name": "stdout",
     "output_type": "stream",
     "text": [
      "Введите угол в градусах не более 5 (если -1 - то выход): 1\n",
      "sin(1.0^o) =  ~ 0.0175\n",
      "Введите угол в градусах не более 5 (если -1 - то выход): 2\n",
      "sin(2.0^o) =  ~ 0.0349\n",
      "Введите угол в градусах не более 5 (если -1 - то выход): 3\n",
      "sin(3.0^o) =  ~ 0.0524\n",
      "Введите угол в градусах не более 5 (если -1 - то выход): 4\n",
      "sin(4.0^o) =  ~ 0.0698\n",
      "Введите угол в градусах не более 5 (если -1 - то выход): 5\n",
      "sin(5.0^o) =  ~ 0.0873\n",
      "Введите угол в градусах не более 5 (если -1 - то выход): 3.57892\n",
      "sin(3.57892^o) =  ~ 0.0625\n",
      "Введите угол в градусах не более 5 (если -1 - то выход): -1\n"
     ]
    }
   ],
   "source": [
    "# аналогично можно вычислять и sin до 5 градусов\n",
    "\n",
    "while True:\n",
    "    degree = float(input('Введите угол в градусах не более 5 (если -1 - то выход): '))\n",
    "    if degree < 0:\n",
    "        break\n",
    "    elif degree > 5:\n",
    "        print(f'Необходимо вводить не более 5 градусов')\n",
    "    else:\n",
    "        print(f'sin({degree}^o) =  ~ {round(degree*pi/180,4)}')"
   ]
  }
 ],
 "metadata": {
  "kernelspec": {
   "display_name": "Python 3",
   "language": "python",
   "name": "python3"
  },
  "language_info": {
   "codemirror_mode": {
    "name": "ipython",
    "version": 3
   },
   "file_extension": ".py",
   "mimetype": "text/x-python",
   "name": "python",
   "nbconvert_exporter": "python",
   "pygments_lexer": "ipython3",
   "version": "3.7.4"
  }
 },
 "nbformat": 4,
 "nbformat_minor": 2
}
